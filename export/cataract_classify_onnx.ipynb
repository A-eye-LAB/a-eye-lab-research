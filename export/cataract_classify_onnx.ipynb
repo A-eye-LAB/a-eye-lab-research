{
 "cells": [
  {
   "cell_type": "code",
   "execution_count": 2,
   "metadata": {},
   "outputs": [],
   "source": [
    "import numpy as np\n",
    "import onnxruntime as ort\n",
    "from PIL import Image\n",
    "from scipy.spatial.distance import cosine\n",
    "import pickle\n",
    "\n",
    "def preprocess_image(image_path, input_size=(224, 224)):\n",
    "    image = Image.open(image_path)\n",
    "    image = image.convert('RGB')\n",
    "    image = image.resize(input_size)\n",
    "    image_array = np.array(image)\n",
    "    image_array = image_array / 255.0\n",
    "    image_array = image_array.astype(np.float32)\n",
    "    image_array = np.transpose(image_array[np.newaxis, ...], (0,3,1,2))\n",
    "    return image_array\n",
    "\n",
    "def run_inference(image_path, model_path):\n",
    "    session = ort.InferenceSession(model_path)\n",
    "    input_name = session.get_inputs()[0].name\n",
    "    input_data = preprocess_image(image_path)\n",
    "    outputs = session.run(None, {input_name: input_data})\n",
    "    probabilities = softmax(outputs[0][0])\n",
    "    predicted_class = np.argmax(probabilities)\n",
    "    return predicted_class, probabilities\n",
    "\n",
    "def softmax(x):\n",
    "    e_x = np.exp(x - np.max(x))\n",
    "    return e_x / e_x.sum()"
   ]
  },
  {
   "cell_type": "code",
   "execution_count": 3,
   "metadata": {},
   "outputs": [
    {
     "name": "stdout",
     "output_type": "stream",
     "text": [
      "\n",
      "Processing class directory: 0\n",
      "\n",
      "Image: 20_20250207_left.jpeg\n",
      "True class: 0\n",
      "Predicted class: 0\n",
      "Probabilities: [0.8955, 0.1045]\n",
      "\n",
      "Image: 30_20250207_right.jpeg\n",
      "True class: 0\n",
      "Predicted class: 0\n",
      "Probabilities: [0.5500, 0.4500]\n",
      "\n",
      "Image: 23_20250207_right.jpeg\n",
      "True class: 0\n",
      "Predicted class: 0\n",
      "Probabilities: [0.9317, 0.0683]\n",
      "\n",
      "Image: 08_20250207_left.jpg\n",
      "True class: 0\n",
      "Predicted class: 0\n",
      "Probabilities: [0.7871, 0.2129]\n",
      "\n",
      "Image: 35_20250207_right.jpeg\n",
      "True class: 0\n",
      "Predicted class: 0\n",
      "Probabilities: [0.7782, 0.2218]\n"
     ]
    },
    {
     "ename": "KeyboardInterrupt",
     "evalue": "",
     "output_type": "error",
     "traceback": [
      "\u001b[0;31m---------------------------------------------------------------------------\u001b[0m",
      "\u001b[0;31mKeyboardInterrupt\u001b[0m                         Traceback (most recent call last)",
      "Cell \u001b[0;32mIn[3], line 19\u001b[0m\n\u001b[1;32m     16\u001b[0m image_path \u001b[38;5;241m=\u001b[39m os\u001b[38;5;241m.\u001b[39mpath\u001b[38;5;241m.\u001b[39mjoin(class_path, image_file)\n\u001b[1;32m     18\u001b[0m \u001b[38;5;66;03m# 추론 실행\u001b[39;00m\n\u001b[0;32m---> 19\u001b[0m predicted_class,probabilities \u001b[38;5;241m=\u001b[39m run_inference(image_path, model_path)\n\u001b[1;32m     21\u001b[0m \u001b[38;5;66;03m# 결과 출력\u001b[39;00m\n\u001b[1;32m     22\u001b[0m \u001b[38;5;28mprint\u001b[39m(\u001b[38;5;124mf\u001b[39m\u001b[38;5;124m\"\u001b[39m\u001b[38;5;130;01m\\n\u001b[39;00m\u001b[38;5;124mImage: \u001b[39m\u001b[38;5;132;01m{\u001b[39;00mimage_file\u001b[38;5;132;01m}\u001b[39;00m\u001b[38;5;124m\"\u001b[39m)\n",
      "Cell \u001b[0;32mIn[2], line 18\u001b[0m, in \u001b[0;36mrun_inference\u001b[0;34m(image_path, model_path)\u001b[0m\n\u001b[1;32m     17\u001b[0m \u001b[38;5;28;01mdef\u001b[39;00m \u001b[38;5;21mrun_inference\u001b[39m(image_path, model_path):\n\u001b[0;32m---> 18\u001b[0m     session \u001b[38;5;241m=\u001b[39m ort\u001b[38;5;241m.\u001b[39mInferenceSession(model_path)\n\u001b[1;32m     19\u001b[0m     input_name \u001b[38;5;241m=\u001b[39m session\u001b[38;5;241m.\u001b[39mget_inputs()[\u001b[38;5;241m0\u001b[39m]\u001b[38;5;241m.\u001b[39mname\n\u001b[1;32m     20\u001b[0m     input_data \u001b[38;5;241m=\u001b[39m preprocess_image(image_path)\n",
      "File \u001b[0;32m/opt/conda/lib/python3.11/site-packages/onnxruntime/capi/onnxruntime_inference_collection.py:465\u001b[0m, in \u001b[0;36mInferenceSession.__init__\u001b[0;34m(self, path_or_bytes, sess_options, providers, provider_options, **kwargs)\u001b[0m\n\u001b[1;32m    462\u001b[0m disabled_optimizers \u001b[38;5;241m=\u001b[39m kwargs\u001b[38;5;241m.\u001b[39mget(\u001b[38;5;124m\"\u001b[39m\u001b[38;5;124mdisabled_optimizers\u001b[39m\u001b[38;5;124m\"\u001b[39m)\n\u001b[1;32m    464\u001b[0m \u001b[38;5;28;01mtry\u001b[39;00m:\n\u001b[0;32m--> 465\u001b[0m     \u001b[38;5;28mself\u001b[39m\u001b[38;5;241m.\u001b[39m_create_inference_session(providers, provider_options, disabled_optimizers)\n\u001b[1;32m    466\u001b[0m \u001b[38;5;28;01mexcept\u001b[39;00m (\u001b[38;5;167;01mValueError\u001b[39;00m, \u001b[38;5;167;01mRuntimeError\u001b[39;00m) \u001b[38;5;28;01mas\u001b[39;00m e:\n\u001b[1;32m    467\u001b[0m     \u001b[38;5;28;01mif\u001b[39;00m \u001b[38;5;28mself\u001b[39m\u001b[38;5;241m.\u001b[39m_enable_fallback:\n",
      "File \u001b[0;32m/opt/conda/lib/python3.11/site-packages/onnxruntime/capi/onnxruntime_inference_collection.py:537\u001b[0m, in \u001b[0;36mInferenceSession._create_inference_session\u001b[0;34m(self, providers, provider_options, disabled_optimizers)\u001b[0m\n\u001b[1;32m    534\u001b[0m     disabled_optimizers \u001b[38;5;241m=\u001b[39m \u001b[38;5;28mset\u001b[39m(disabled_optimizers)\n\u001b[1;32m    536\u001b[0m \u001b[38;5;66;03m# initialize the C++ InferenceSession\u001b[39;00m\n\u001b[0;32m--> 537\u001b[0m sess\u001b[38;5;241m.\u001b[39minitialize_session(providers, provider_options, disabled_optimizers)\n\u001b[1;32m    539\u001b[0m \u001b[38;5;28mself\u001b[39m\u001b[38;5;241m.\u001b[39m_sess \u001b[38;5;241m=\u001b[39m sess\n\u001b[1;32m    540\u001b[0m \u001b[38;5;28mself\u001b[39m\u001b[38;5;241m.\u001b[39m_sess_options \u001b[38;5;241m=\u001b[39m \u001b[38;5;28mself\u001b[39m\u001b[38;5;241m.\u001b[39m_sess\u001b[38;5;241m.\u001b[39msession_options\n",
      "\u001b[0;31mKeyboardInterrupt\u001b[0m: "
     ]
    }
   ],
   "source": [
    "import os\n",
    "\n",
    "# 이미지가 있는 기본 디렉토리 경로\n",
    "base_dir = \"/workspace/a-eye-lab-research/dataset/real_data\"\n",
    "model_path = \"/workspace/model_quantized.onnx\"\n",
    "\n",
    "# 모든 하위 디렉토리(0, 1)를 순회\n",
    "for class_dir in os.listdir(base_dir):\n",
    "    class_path = os.path.join(base_dir, class_dir)\n",
    "    if os.path.isdir(class_path):\n",
    "        print(f\"\\nProcessing class directory: {class_dir}\")\n",
    "        \n",
    "        # 각 클래스 디렉토리 내의 모든 이미지 파일을 순회\n",
    "        for image_file in os.listdir(class_path):\n",
    "            if image_file.endswith(('.png', '.jpg', '.jpeg')):\n",
    "                image_path = os.path.join(class_path, image_file)\n",
    "                \n",
    "                # 추론 실행\n",
    "                predicted_class,probabilities = run_inference(image_path, model_path)\n",
    "\n",
    "                # 결과 출력\n",
    "                print(f\"\\nImage: {image_file}\")\n",
    "                print(f\"True class: {class_dir}\")\n",
    "                print(f\"Predicted class: {predicted_class}\")\n",
    "                print(f\"Probabilities: [{probabilities[0]:.4f}, {probabilities[1]:.4f}]\")"
   ]
  },
  {
   "cell_type": "code",
   "execution_count": null,
   "metadata": {},
   "outputs": [],
   "source": []
  }
 ],
 "metadata": {
  "kernelspec": {
   "display_name": "base",
   "language": "python",
   "name": "python3"
  },
  "language_info": {
   "codemirror_mode": {
    "name": "ipython",
    "version": 3
   },
   "file_extension": ".py",
   "mimetype": "text/x-python",
   "name": "python",
   "nbconvert_exporter": "python",
   "pygments_lexer": "ipython3",
   "version": "3.11.9"
  }
 },
 "nbformat": 4,
 "nbformat_minor": 2
}
