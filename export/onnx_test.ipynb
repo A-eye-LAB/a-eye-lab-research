{
 "cells": [
  {
   "cell_type": "code",
   "execution_count": 1,
   "metadata": {},
   "outputs": [],
   "source": [
    "import numpy as np\n",
    "import onnxruntime as ort\n",
    "from PIL import Image\n",
    "\n",
    "def preprocess_image(image_path, input_size=(224, 224)):\n",
    "    image = Image.open(image_path)\n",
    "    image = image.convert('RGB')\n",
    "    image = image.resize(input_size)\n",
    "    image_array = np.array(image)\n",
    "    image_array = image_array / 255.0\n",
    "    image_array = image_array.astype(np.float32)\n",
    "    image_array = np.transpose(image_array[np.newaxis, ...], (0,3,1,2))\n",
    "    return image_array\n",
    "\n",
    "def run_inference(image_path, model_path):\n",
    "    session = ort.InferenceSession(model_path)\n",
    "    input_name = session.get_inputs()[0].name\n",
    "    input_data = preprocess_image(image_path)\n",
    "    outputs = session.run(None, {input_name: input_data})\n",
    "    probabilities = softmax(outputs[0][0])\n",
    "    predicted_class = np.argmax(probabilities)\n",
    "    return predicted_class, probabilities\n",
    "\n",
    "def softmax(x):\n",
    "    e_x = np.exp(x - np.max(x))\n",
    "    return e_x / e_x.sum()\n",
    "\n",
    "\n"
   ]
  },
  {
   "cell_type": "code",
   "execution_count": 3,
   "metadata": {},
   "outputs": [
    {
     "name": "stdout",
     "output_type": "stream",
     "text": [
      "\n",
      "Processing class directory: 0\n",
      "\n",
      "Image: image_1.png\n",
      "True class: 0\n",
      "Predicted class: 0\n",
      "Probabilities: [0.9999, 0.0001]\n",
      "\n",
      "Image: image_8.png\n",
      "True class: 0\n",
      "Predicted class: 0\n",
      "Probabilities: [0.9997, 0.0003]\n",
      "\n",
      "Image: image_5.png\n",
      "True class: 0\n",
      "Predicted class: 0\n",
      "Probabilities: [1.0000, 0.0000]\n",
      "\n",
      "Image: image_2.png\n",
      "True class: 0\n",
      "Predicted class: 0\n",
      "Probabilities: [1.0000, 0.0000]\n"
     ]
    }
   ],
   "source": [
    "import os\n",
    "\n",
    "# 이미지가 있는 기본 디렉토리 경로\n",
    "base_dir = \"/workspace/a-eye-lab-research/dataset/data/test_data\"\n",
    "model_path = \"/workspace/a-eye-lab-research/model_quantized.onnx\"\n",
    "\n",
    "# 모든 하위 디렉토리(0, 1)를 순회\n",
    "for class_dir in os.listdir(base_dir):\n",
    "    class_path = os.path.join(base_dir, class_dir)\n",
    "    if os.path.isdir(class_path):\n",
    "        print(f\"\\nProcessing class directory: {class_dir}\")\n",
    "        \n",
    "        # 각 클래스 디렉토리 내의 모든 이미지 파일을 순회\n",
    "        for image_file in os.listdir(class_path):\n",
    "            if image_file.endswith(('.png', '.jpg', '.jpeg')):\n",
    "                image_path = os.path.join(class_path, image_file)\n",
    "                \n",
    "                # 추론 실행\n",
    "                predicted_class, probabilities = run_inference(image_path, model_path)\n",
    "                \n",
    "                # 결과 출력\n",
    "                print(f\"\\nImage: {image_file}\")\n",
    "                print(f\"True class: {class_dir}\")\n",
    "                print(f\"Predicted class: {predicted_class}\")\n",
    "                print(f\"Probabilities: [{probabilities[0]:.4f}, {probabilities[1]:.4f}]\")"
   ]
  },
  {
   "cell_type": "code",
   "execution_count": null,
   "metadata": {},
   "outputs": [],
   "source": []
  }
 ],
 "metadata": {
  "kernelspec": {
   "display_name": "base",
   "language": "python",
   "name": "python3"
  },
  "language_info": {
   "codemirror_mode": {
    "name": "ipython",
    "version": 3
   },
   "file_extension": ".py",
   "mimetype": "text/x-python",
   "name": "python",
   "nbconvert_exporter": "python",
   "pygments_lexer": "ipython3",
   "version": "3.11.9"
  }
 },
 "nbformat": 4,
 "nbformat_minor": 2
}
